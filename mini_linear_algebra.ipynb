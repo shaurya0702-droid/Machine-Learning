{
  "nbformat": 4,
  "nbformat_minor": 0,
  "metadata": {
    "colab": {
      "provenance": [],
      "authorship_tag": "ABX9TyMZvKNRT52dKDOPk9R1CwT+",
      "include_colab_link": true
    },
    "kernelspec": {
      "name": "python3",
      "display_name": "Python 3"
    },
    "language_info": {
      "name": "python"
    }
  },
  "cells": [
    {
      "cell_type": "markdown",
      "metadata": {
        "id": "view-in-github",
        "colab_type": "text"
      },
      "source": [
        "<a href=\"https://colab.research.google.com/github/shaurya0702-droid/Machine-Learning/blob/main/mini_linear_algebra.ipynb\" target=\"_parent\"><img src=\"https://colab.research.google.com/assets/colab-badge.svg\" alt=\"Open In Colab\"/></a>"
      ]
    },
    {
      "cell_type": "code",
      "source": [
        "#\n",
        "\n",
        "\n",
        "\n",
        "\n",
        "# Project 1: Mini Linear Algebra Library\n",
        "\n",
        "\n",
        "\n",
        "\n",
        "\n",
        "#"
      ],
      "metadata": {
        "id": "J0KJt_HSMIL4"
      },
      "execution_count": null,
      "outputs": []
    },
    {
      "cell_type": "code",
      "source": [
        "import numpy as np\n",
        "\n",
        "class Matrix:\n",
        "    def __init__(self, data):\n",
        "      self.data = np.array(data, dtype=float)\n",
        "    def __str__(self): #give readabl string not mem loc\n",
        "      return str(self.data)#\n",
        "    def __repr__(self):#\n",
        "      return self.data\n",
        "    def shape(self):\n",
        "      return self.data.shape\n",
        "    def transpose(self):\n",
        "      return Matrix(self.data.T)\n",
        "    def determinant(self):\n",
        "      return np.linalg.det(self.data)\n",
        "    def inverse(self):\n",
        "      return Matrix(np.linalg.inv(self.data))\n",
        "    def rank(self):\n",
        "      return np.linalg.matrix_rank(self.data)\n"
      ],
      "metadata": {
        "id": "DQMBYXgNwSjP"
      },
      "execution_count": null,
      "outputs": []
    },
    {
      "cell_type": "code",
      "source": [
        "class Vector:\n",
        "    def __init__(self, data):\n",
        "        self.data = np.array(data, dtype=float)\n",
        "    def __repr__(self):\n",
        "        return self.data\n",
        "    def norm(self): #magnitude\n",
        "        return np.linalg.norm(self.data)\n",
        "    def dot(self, vec):\n",
        "        return np.dot(self.data, vec.data)\n",
        "    def projection(self, vec):\n",
        "        u = vec.data / np.linalg.norm(vec.data)\n",
        "        proj = np.dot(self.data, u) * u\n",
        "        return Vector(proj)\n",
        "    def orthogonal_component(self, vec):\n",
        "        return Vector(self.data - self.projection(vec).data)"
      ],
      "metadata": {
        "id": "oDGW4NzlMIOX"
      },
      "execution_count": null,
      "outputs": []
    },
    {
      "cell_type": "code",
      "source": [
        "!pip install matrix vector"
      ],
      "metadata": {
        "colab": {
          "base_uri": "https://localhost:8080/"
        },
        "id": "Y63nmD7iTPcO",
        "outputId": "1d4417b8-919e-478b-c348-86a57f8ad5ed"
      },
      "execution_count": null,
      "outputs": [
        {
          "output_type": "stream",
          "name": "stdout",
          "text": [
            "Requirement already satisfied: matrix in /usr/local/lib/python3.12/dist-packages (3.0.0)\n",
            "Requirement already satisfied: vector in /usr/local/lib/python3.12/dist-packages (1.7.0)\n",
            "Requirement already satisfied: numpy>=1.19.3 in /usr/local/lib/python3.12/dist-packages (from vector) (2.0.2)\n",
            "Requirement already satisfied: packaging>=20 in /usr/local/lib/python3.12/dist-packages (from vector) (25.0)\n"
          ]
        }
      ]
    },
    {
      "cell_type": "code",
      "source": [
        "class Transformation:\n",
        "    def __init__(self, matrix):\n",
        "        self.matrix = matrix\n",
        "\n",
        "    def apply(self, vector):\n",
        "        transformed = np.dot(self.matrix.data, vector.data)\n",
        "        return Vector(transformed)\n",
        "\n",
        "    def rotation(self, theta):\n",
        "        return Transformation(Matrix([\n",
        "            [np.cos(theta), -np.sin(theta)],\n",
        "            [np.sin(theta),  np.cos(theta)]\n",
        "        ]))\n",
        "\n",
        "    def scaling(self, sx, sy):\n",
        "        return Transformation(Matrix([\n",
        "            [sx, 0],\n",
        "            [0, sy]\n",
        "        ]))\n"
      ],
      "metadata": {
        "id": "KYbwIMnfMIQ2"
      },
      "execution_count": null,
      "outputs": []
    },
    {
      "cell_type": "code",
      "source": [
        "A = Matrix([[1, 2], [3, 4]])\n",
        "B = Matrix([[2, 0], [1, 2]])\n",
        "print(\"Transpose of A:\\n\", A.transpose())\n",
        "print(\"Determinant of A:\", A.determinant())\n",
        "print(\"Inverse of A:\\n\", A.inverse())\n",
        "print(\"Rank of A:\", A.rank())\n",
        "\n",
        "v1 = Vector([1, 2])\n",
        "v2 = Vector([3, 4])\n",
        "print(\"dot prod:\", v1.dot(v2))\n",
        "print(\"norm  v1:\", v1.norm())\n",
        "proj = v1.projection(v2)\n",
        "print(\"projection v1 on v2:\", proj)\n",
        "orth = v1.orthogonal_component(v2)\n",
        "print(\"orthogonal component of v1:\", orth)\n",
        "\n",
        "t = Transformation(Matrix([[1, 0], [0, 1]]))\n",
        "rotation = t.rotation(np.pi / 4)\n",
        "rotated_v1 = rotation.apply(v1)\n",
        "print(\"Rotated v1:\", rotated_v1)\n",
        "scaling = t.scaling(1.5, 0.5)\n",
        "scaled_v1 = scaling.apply(v1)\n",
        "print(\"Scaled v1:\", scaled_v1)"
      ],
      "metadata": {
        "colab": {
          "base_uri": "https://localhost:8080/"
        },
        "id": "DcMYE1CeMITQ",
        "outputId": "2251b6b5-b379-4ae5-e00a-09e3c2a9c399"
      },
      "execution_count": null,
      "outputs": [
        {
          "output_type": "stream",
          "name": "stdout",
          "text": [
            "Transpose of A:\n",
            " [[1. 3.]\n",
            " [2. 4.]]\n",
            "Determinant of A: -2.0000000000000004\n",
            "Inverse of A:\n",
            " [[-2.   1. ]\n",
            " [ 1.5 -0.5]]\n",
            "Rank of A: 2\n",
            "Dot product: 11.0\n",
            "Norm of v1: 2.23606797749979\n",
            "Projection of v1 on v2: Vector([1.32 1.76])\n",
            "Orthogonal component of v1: Vector([-0.32  0.24])\n",
            "Rotated v1: Vector([-0.70710678  2.12132034])\n",
            "Scaled v1: Vector([1.5 1. ])\n"
          ]
        }
      ]
    },
    {
      "cell_type": "code",
      "source": [
        "#Visualize how 2D vectors change when multiplied by transformation matrices (e.g., rotations, scaling)."
      ],
      "metadata": {
        "id": "Ynb0MzmbMIVt"
      },
      "execution_count": null,
      "outputs": []
    },
    {
      "cell_type": "code",
      "source": [
        "import matplotlib.pyplot as plt\n",
        "import seaborn as sns\n",
        "sns.set()#for grid\n",
        "\n",
        "v1 = np.array([1, 2])\n",
        "v2 = np.array([3, 4])\n",
        "proj_v1_on_v2 = np.array([1.32, 1.76])\n",
        "orth_v1 = np.array([-0.32, 0.24])\n",
        "rotated_v1 = np.array([-0.70710678, 2.12132034])\n",
        "scaled_v1 = np.array([1.5, 1.0])\n",
        "\n",
        "plt.quiver(0, 0, v1[0], v1[1], angles='xy', scale_units='xy', scale=1, color='b', label='v1')\n",
        "plt.quiver(0, 0, v2[0], v2[1], angles='xy', scale_units='xy', scale=1, color='r', label='v2')\n",
        "plt.quiver(0, 0, proj_v1_on_v2[0], proj_v1_on_v2[1], angles='xy', scale_units='xy', scale=1, color='g', label='projection') #scales and angles in x y plane\n",
        "plt.quiver(0, 0, orth_v1[0], orth_v1[1], angles='xy', scale_units='xy', scale=1, color='orange', label='orthogonal')\n",
        "plt.quiver(0, 0, rotated_v1[0], rotated_v1[1], angles='xy', scale_units='xy', scale=1, color='r', label='rotated')\n",
        "plt.quiver(0, 0, scaled_v1[0], scaled_v1[1], angles='xy', scale_units='xy', scale=1, color='purple', label='scaled')\n",
        "\n",
        "plt.xlim(-5, 5)\n",
        "plt.ylim(-5, 5)\n",
        "plt.legend(loc='lower left')#loc is location\n",
        "plt.show()"
      ],
      "metadata": {
        "colab": {
          "base_uri": "https://localhost:8080/",
          "height": 424
        },
        "id": "5Aup5ANiMIap",
        "outputId": "88658fef-6264-4715-eaa2-eca2b1b4441f"
      },
      "execution_count": null,
      "outputs": [
        {
          "output_type": "display_data",
          "data": {
            "text/plain": [
              "<Figure size 640x480 with 1 Axes>"
            ],
            "image/png": "[encoded data removed]"
          },
          "metadata": {}
        }
      ]
    },
    {
      "cell_type": "code",
      "source": [],
      "metadata": {
        "id": "XH_yCHxPe4Xk"
      },
      "execution_count": null,
      "outputs": []
    }
  ]
}